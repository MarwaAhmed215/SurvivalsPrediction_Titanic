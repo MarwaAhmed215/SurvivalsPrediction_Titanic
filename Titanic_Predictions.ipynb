{
 "cells": [
  {
   "cell_type": "code",
   "execution_count": 3,
   "metadata": {},
   "outputs": [],
   "source": [
    "import numpy as np\n",
    "import matplotlib.pyplot as plt\n",
    "import seaborn as snb\n",
    "from sklearn.preprocessing import OneHotEncoder\n",
    "from sklearn.ensemble import RandomForestClassifier\n",
    "import pandas as pd"
   ]
  },
  {
   "cell_type": "code",
   "execution_count": 4,
   "metadata": {},
   "outputs": [
    {
     "data": {
      "text/html": [
       "<div>\n",
       "<style scoped>\n",
       "    .dataframe tbody tr th:only-of-type {\n",
       "        vertical-align: middle;\n",
       "    }\n",
       "\n",
       "    .dataframe tbody tr th {\n",
       "        vertical-align: top;\n",
       "    }\n",
       "\n",
       "    .dataframe thead th {\n",
       "        text-align: right;\n",
       "    }\n",
       "</style>\n",
       "<table border=\"1\" class=\"dataframe\">\n",
       "  <thead>\n",
       "    <tr style=\"text-align: right;\">\n",
       "      <th></th>\n",
       "      <th>PassengerId</th>\n",
       "      <th>Survived</th>\n",
       "      <th>Pclass</th>\n",
       "      <th>Name</th>\n",
       "      <th>Sex</th>\n",
       "      <th>Age</th>\n",
       "      <th>SibSp</th>\n",
       "      <th>Parch</th>\n",
       "      <th>Ticket</th>\n",
       "      <th>Fare</th>\n",
       "      <th>Cabin</th>\n",
       "      <th>Embarked</th>\n",
       "    </tr>\n",
       "  </thead>\n",
       "  <tbody>\n",
       "    <tr>\n",
       "      <th>0</th>\n",
       "      <td>1</td>\n",
       "      <td>0</td>\n",
       "      <td>3</td>\n",
       "      <td>Braund, Mr. Owen Harris</td>\n",
       "      <td>male</td>\n",
       "      <td>22.0</td>\n",
       "      <td>1</td>\n",
       "      <td>0</td>\n",
       "      <td>A/5 21171</td>\n",
       "      <td>7.2500</td>\n",
       "      <td>NaN</td>\n",
       "      <td>S</td>\n",
       "    </tr>\n",
       "    <tr>\n",
       "      <th>1</th>\n",
       "      <td>2</td>\n",
       "      <td>1</td>\n",
       "      <td>1</td>\n",
       "      <td>Cumings, Mrs. John Bradley (Florence Briggs Th...</td>\n",
       "      <td>female</td>\n",
       "      <td>38.0</td>\n",
       "      <td>1</td>\n",
       "      <td>0</td>\n",
       "      <td>PC 17599</td>\n",
       "      <td>71.2833</td>\n",
       "      <td>C85</td>\n",
       "      <td>C</td>\n",
       "    </tr>\n",
       "    <tr>\n",
       "      <th>2</th>\n",
       "      <td>3</td>\n",
       "      <td>1</td>\n",
       "      <td>3</td>\n",
       "      <td>Heikkinen, Miss. Laina</td>\n",
       "      <td>female</td>\n",
       "      <td>26.0</td>\n",
       "      <td>0</td>\n",
       "      <td>0</td>\n",
       "      <td>STON/O2. 3101282</td>\n",
       "      <td>7.9250</td>\n",
       "      <td>NaN</td>\n",
       "      <td>S</td>\n",
       "    </tr>\n",
       "    <tr>\n",
       "      <th>3</th>\n",
       "      <td>4</td>\n",
       "      <td>1</td>\n",
       "      <td>1</td>\n",
       "      <td>Futrelle, Mrs. Jacques Heath (Lily May Peel)</td>\n",
       "      <td>female</td>\n",
       "      <td>35.0</td>\n",
       "      <td>1</td>\n",
       "      <td>0</td>\n",
       "      <td>113803</td>\n",
       "      <td>53.1000</td>\n",
       "      <td>C123</td>\n",
       "      <td>S</td>\n",
       "    </tr>\n",
       "    <tr>\n",
       "      <th>4</th>\n",
       "      <td>5</td>\n",
       "      <td>0</td>\n",
       "      <td>3</td>\n",
       "      <td>Allen, Mr. William Henry</td>\n",
       "      <td>male</td>\n",
       "      <td>35.0</td>\n",
       "      <td>0</td>\n",
       "      <td>0</td>\n",
       "      <td>373450</td>\n",
       "      <td>8.0500</td>\n",
       "      <td>NaN</td>\n",
       "      <td>S</td>\n",
       "    </tr>\n",
       "  </tbody>\n",
       "</table>\n",
       "</div>"
      ],
      "text/plain": [
       "   PassengerId  Survived  Pclass  \\\n",
       "0            1         0       3   \n",
       "1            2         1       1   \n",
       "2            3         1       3   \n",
       "3            4         1       1   \n",
       "4            5         0       3   \n",
       "\n",
       "                                                Name     Sex   Age  SibSp  \\\n",
       "0                            Braund, Mr. Owen Harris    male  22.0      1   \n",
       "1  Cumings, Mrs. John Bradley (Florence Briggs Th...  female  38.0      1   \n",
       "2                             Heikkinen, Miss. Laina  female  26.0      0   \n",
       "3       Futrelle, Mrs. Jacques Heath (Lily May Peel)  female  35.0      1   \n",
       "4                           Allen, Mr. William Henry    male  35.0      0   \n",
       "\n",
       "   Parch            Ticket     Fare Cabin Embarked  \n",
       "0      0         A/5 21171   7.2500   NaN        S  \n",
       "1      0          PC 17599  71.2833   C85        C  \n",
       "2      0  STON/O2. 3101282   7.9250   NaN        S  \n",
       "3      0            113803  53.1000  C123        S  \n",
       "4      0            373450   8.0500   NaN        S  "
      ]
     },
     "execution_count": 4,
     "metadata": {},
     "output_type": "execute_result"
    }
   ],
   "source": [
    "train_data = '/home/marwa/titanic/train.csv'\n",
    "test_data= '/home/marwa/titanic/test.csv'\n",
    "data_frame = pd.read_csv(train_data)\n",
    "test_frame = pd.read_csv(test_data)\n",
    "data_frame.head()\n",
    "# print(data_frame.shape[0])\n",
    "# features included in the dataset\n",
    "\n",
    "    # PassengerId - Passenger ID - Number\n",
    "    # Survived - Survived - Bool\n",
    "    # Pclass - Ticket class - available 1 = 1st, 2 = 2nd, 3 = 3rd - Number\n",
    "    # Name - First name, Last Name and optional Title - String\n",
    "    # Sex - Sex of passenger - available: male and female - String\n",
    "    # Age - Age in years - Number\n",
    "    # SibSp - of siblings / spouses aboard the Titanic - Number\n",
    "    # Parch - of parents / children aboard the Titanic - Number\n",
    "    # Ticket - Ticket Id - String\n",
    "    # Fare - Passenger fare / Ticker price - Number\n",
    "    # Cabin - Cabin number - String\n",
    "    # Embarked - Port of Embarkation - available C = Cherbourg, Q = Queenstown, S = Southampton - String\n"
   ]
  },
  {
   "cell_type": "code",
   "execution_count": 5,
   "metadata": {},
   "outputs": [
    {
     "name": "stdout",
     "output_type": "stream",
     "text": [
      "0.6296296296296297\n",
      "0.47282608695652173\n",
      "0.24236252545824846\n",
      "[0.6296296296296297, 0.47282608695652173, 0.24236252545824846]\n",
      "   Pclass  Survived\n",
      "0       1  0.629630\n",
      "1       2  0.472826\n",
      "2       3  0.242363\n"
     ]
    }
   ],
   "source": [
    "survived_classe1 = data_frame.loc[data_frame.Pclass==1]['Survived']\n",
    "# print(survived_classe1)\n",
    "survived_classe1.head()\n",
    "class1 = sum(survived_classe1)/len(survived_classe1)\n",
    "print(class1)\n",
    "survived_classe2 = data_frame.loc[data_frame.Pclass==2]['Survived']\n",
    "class2 = sum(survived_classe2)/len(survived_classe2)\n",
    "print(class2)\n",
    "survived_classe3 = data_frame.loc[data_frame.Pclass==3]['Survived']\n",
    "class3 = sum(survived_classe3)/len(survived_classe3)\n",
    "print(class3)\n",
    "\n",
    "classes = [class1,class2,class3]\n",
    "print(classes)\n",
    "classes_data = pd.DataFrame({'Pclass':[1,2,3], 'Survived':classes})\n",
    "print(classes_data)\n",
    "\n",
    "# classes_data.describe()\n",
    "# pclass_impact_on_survive = data_frame[['Pclass', 'Survived']].groupby('Pclass')['Survived'].mean()\n",
    "# pclass_impact_on_survive.head(10)\n",
    "# pclass_impact_on_survive.reset_index()\n"
   ]
  },
  {
   "cell_type": "code",
   "execution_count": 6,
   "metadata": {},
   "outputs": [
    {
     "data": {
      "image/png": "[encoded data removed]",
      "text/plain": [
       "<Figure size 640x480 with 1 Axes>"
      ]
     },
     "metadata": {},
     "output_type": "display_data"
    }
   ],
   "source": [
    "#visulaize results\n",
    "snb.barplot(data=classes_data.reset_index(), x='Pclass', y=\"Survived\")\n",
    "plt.suptitle('correlation between survived and class')\n",
    "plt.show()\n",
    "# the results illustrate that most survivals are from class1"
   ]
  },
  {
   "cell_type": "code",
   "execution_count": 7,
   "metadata": {},
   "outputs": [
    {
     "name": "stdout",
     "output_type": "stream",
     "text": [
      "0.7420382165605095\n",
      "0.18890814558058924\n",
      "     Sex  Survived\n",
      "0  women  0.742038\n",
      "1    men  0.188908\n"
     ]
    },
    {
     "data": {
      "text/plain": [
       "Text(0.5, 0.98, 'correlation between survived and men&women')"
      ]
     },
     "execution_count": 7,
     "metadata": {},
     "output_type": "execute_result"
    },
    {
     "data": {
      "image/png": "[encoded data removed]",
      "text/plain": [
       "<Figure size 640x480 with 1 Axes>"
      ]
     },
     "metadata": {},
     "output_type": "display_data"
    }
   ],
   "source": [
    "# relationship between sex and survived persons\n",
    "women = data_frame.loc[data_frame.Sex=='female']['Survived']\n",
    "women.head(10)\n",
    "survived_women = sum(women)/len(women)\n",
    "print(survived_women)\n",
    "\n",
    "men = data_frame.loc[data_frame.Sex=='male']['Survived']\n",
    "survived_men = sum(men)/len(men)\n",
    "print(survived_men)\n",
    "Survived_men_women = pd.DataFrame({'Sex':['women','men'], 'Survived':[survived_women,survived_men]})\n",
    "print(Survived_men_women)\n",
    "\n",
    "#visulaize results\n",
    "snb.barplot(data=Survived_men_women, x='Sex', y='Survived')\n",
    "plt.suptitle('correlation between survived and men&women')\n",
    "# the results illustrates that more than 70% of survivals are women"
   ]
  },
  {
   "cell_type": "code",
   "execution_count": 8,
   "metadata": {},
   "outputs": [
    {
     "data": {
      "image/png": "[encoded data removed]",
      "text/plain": [
       "<Figure size 640x480 with 1 Axes>"
      ]
     },
     "metadata": {},
     "output_type": "display_data"
    }
   ],
   "source": [
    "# relationship between  survivals and age\n",
    "data_frame.head()\n",
    "age = data_frame[['Survived','Age']]\n",
    "age.head()\n",
    "age_more35 = age[age['Age']>35]\n",
    "age_more35.head()\n",
    "# #visulaize results\n",
    "plt.hist(age['Age'])\n",
    "plt.suptitle('correlation between survived and people age')\n",
    "plt.show()\n"
   ]
  },
  {
   "cell_type": "code",
   "execution_count": 9,
   "metadata": {},
   "outputs": [
    {
     "data": {
      "text/plain": [
       "Mr              517\n",
       "Miss            182\n",
       "Mrs             125\n",
       "Master           40\n",
       "Dr                7\n",
       "Rev               6\n",
       "Mlle              2\n",
       "Major             2\n",
       "Col               2\n",
       "the Countess      1\n",
       "Capt              1\n",
       "Ms                1\n",
       "Sir               1\n",
       "Lady              1\n",
       "Mme               1\n",
       "Don               1\n",
       "Jonkheer          1\n",
       "Name: Title, dtype: int64"
      ]
     },
     "execution_count": 9,
     "metadata": {},
     "output_type": "execute_result"
    }
   ],
   "source": [
    "#separate title from name\n",
    "data_frame['Title'] = data_frame['Name'].apply(lambda name: name.split(',')[1].split('.')[0].strip() )\n",
    "title_impact_on_survive = data_frame[~data_frame['Survived'].isna()][['Title', 'Survived']].groupby('Title')['Survived'].mean()\n",
    "title_impact_on_survive\n",
    "data_frame['Title'].value_counts()"
   ]
  },
  {
   "cell_type": "code",
   "execution_count": 10,
   "metadata": {},
   "outputs": [
    {
     "name": "stdout",
     "output_type": "stream",
     "text": [
      "     PassengerId  Survived  Pclass  \\\n",
      "0              1         0       3   \n",
      "1              2         1       1   \n",
      "2              3         1       3   \n",
      "3              4         1       1   \n",
      "4              5         0       3   \n",
      "..           ...       ...     ...   \n",
      "886          887         0       2   \n",
      "887          888         1       1   \n",
      "888          889         0       3   \n",
      "889          890         1       1   \n",
      "890          891         0       3   \n",
      "\n",
      "                                                  Name     Sex        Age  \\\n",
      "0                              Braund, Mr. Owen Harris    male  22.000000   \n",
      "1    Cumings, Mrs. John Bradley (Florence Briggs Th...  female  38.000000   \n",
      "2                               Heikkinen, Miss. Laina  female  26.000000   \n",
      "3         Futrelle, Mrs. Jacques Heath (Lily May Peel)  female  35.000000   \n",
      "4                             Allen, Mr. William Henry    male  35.000000   \n",
      "..                                                 ...     ...        ...   \n",
      "886                              Montvila, Rev. Juozas    male  27.000000   \n",
      "887                       Graham, Miss. Margaret Edith  female  19.000000   \n",
      "888           Johnston, Miss. Catherine Helen \"Carrie\"  female  29.699118   \n",
      "889                              Behr, Mr. Karl Howell    male  26.000000   \n",
      "890                                Dooley, Mr. Patrick    male  32.000000   \n",
      "\n",
      "     SibSp  Parch            Ticket     Fare    Cabin Embarked  \n",
      "0        1      0         A/5 21171   7.2500  B96 B98        S  \n",
      "1        1      0          PC 17599  71.2833      C85        C  \n",
      "2        0      0  STON/O2. 3101282   7.9250  B96 B98        S  \n",
      "3        1      0            113803  53.1000     C123        S  \n",
      "4        0      0            373450   8.0500  B96 B98        S  \n",
      "..     ...    ...               ...      ...      ...      ...  \n",
      "886      0      0            211536  13.0000  B96 B98        S  \n",
      "887      0      0            112053  30.0000      B42        S  \n",
      "888      1      2        W./C. 6607  23.4500  B96 B98        S  \n",
      "889      0      0            111369  30.0000     C148        C  \n",
      "890      0      0            370376   7.7500  B96 B98        Q  \n",
      "\n",
      "[891 rows x 12 columns]\n"
     ]
    }
   ],
   "source": [
    "from sklearn.preprocessing import StandardScaler, OneHotEncoder\n",
    "from sklearn.linear_model import LogisticRegression\n",
    "from sklearn import svm\n",
    "from sklearn.ensemble import RandomForestClassifier\n",
    "from sklearn.ensemble import AdaBoostClassifier\n",
    "from sklearn.ensemble import VotingClassifier, StackingClassifier\n",
    "from sklearn.tree import DecisionTreeClassifier\n",
    "from sklearn.model_selection import cross_val_score\n",
    "\n",
    "# from xgboost import XGBClassifier\n",
    "# from lightgbm import LGBMClassifier\n",
    "# from catboost import CatBoostClassifier\n",
    "\n",
    "data_frame = pd.read_csv(train_data)\n",
    "test_frame = pd.read_csv(test_data)\n",
    "data_frame.head(10)\n",
    "\n",
    "# ckeack Null colomns\n",
    "null_col= data_frame.columns[data_frame.isnull().any()]\n",
    "# print(data_frame[null_col].isna().sum())\n",
    "\n",
    "# fill nan vlaues of age with mean vlaue of ages\n",
    "data_frame['Age'].fillna(data_frame['Age'].mean(), inplace=True)\n",
    "data_frame['Cabin'].fillna(data_frame['Cabin'].mode()[0], inplace=True)\n",
    "data_frame['Embarked'].fillna(data_frame['Embarked'].mode()[0], inplace=True)\n",
    "test_frame['Age'].fillna(test_frame['Age'].mean(), inplace=True)\n",
    "\n",
    "print(data_frame)\n",
    "data_frame.head()\n",
    "# print number of columns and rows\n",
    "rows = data_frame.shape[0]\n",
    "columns=data_frame.shape[1]\n",
    "# print(rows, columns)\n",
    "\n",
    "# classification using SVM\n"
   ]
  },
  {
   "cell_type": "code",
   "execution_count": 11,
   "metadata": {},
   "outputs": [
    {
     "name": "stdout",
     "output_type": "stream",
     "text": [
      "     PassengerId  Pclass       Age  SibSp  Parch      Fare  Sex_female  \\\n",
      "0            892       3  34.50000      0      0    7.8292           0   \n",
      "1            893       3  47.00000      1      0    7.0000           1   \n",
      "2            894       2  62.00000      0      0    9.6875           0   \n",
      "3            895       3  27.00000      0      0    8.6625           0   \n",
      "4            896       3  22.00000      1      1   12.2875           1   \n",
      "..           ...     ...       ...    ...    ...       ...         ...   \n",
      "413         1305       3  30.27259      0      0    8.0500           0   \n",
      "414         1306       1  39.00000      0      0  108.9000           1   \n",
      "415         1307       3  38.50000      0      0    7.2500           0   \n",
      "416         1308       3  30.27259      0      0    8.0500           0   \n",
      "417         1309       3  30.27259      1      1   22.3583           0   \n",
      "\n",
      "     Sex_male  \n",
      "0           1  \n",
      "1           0  \n",
      "2           1  \n",
      "3           1  \n",
      "4           0  \n",
      "..        ...  \n",
      "413         1  \n",
      "414         0  \n",
      "415         1  \n",
      "416         1  \n",
      "417         1  \n",
      "\n",
      "[418 rows x 8 columns]\n"
     ]
    },
    {
     "data": {
      "text/plain": [
       "0.7217814324273428"
      ]
     },
     "execution_count": 11,
     "metadata": {},
     "output_type": "execute_result"
    }
   ],
   "source": [
    "features = ['Survived','Name', 'Ticket','Cabin', 'Embarked']\n",
    "features_test = ['Name', 'Ticket','Cabin', 'Embarked']\n",
    "\n",
    "train_x = data_frame.drop(features,axis=1)\n",
    "test_x = test_frame.drop(features_test,axis=1)\n",
    "test_x.fillna(0, inplace=True)\n",
    "\n",
    "# print(train_x)\n",
    "train_y = data_frame.loc[:,'Survived']\n",
    "# print(train_y)\n",
    "\n",
    "# encode categoral features using pd.getdummies or skitlearn.preprocessing.onehotEncoder\n",
    "train_x = pd.get_dummies(train_x)\n",
    "test_xx = pd.get_dummies(test_x)\n",
    "print(test_xx)\n",
    "\n",
    "# print(train_x)\n",
    "\n",
    "\n",
    "# enc = OneHotEncoder(handle_unknown='ignore')\n",
    "# enc_df = pd.DataFrame(enc.fit_transform(train_x[['Pclass','Sex','Age','SibSp','Parch','Fare']]).toarray())\n",
    "# # print(enc_df)\n",
    "# merge with main train_x one key value \n",
    "# train_x = train_x.join(enc_df)\n",
    "# train_x.head(10)\n",
    "\n",
    "# train data using support vector machine\n",
    "# clf = SVM()\n",
    "#clf.fit()\n",
    "\n",
    "# train data using random forest classifier\n",
    "# clf=RandomForestClassifier(max_depth=None, min_samples_split=2, random_state=0)\n",
    "# clf.fit(train_x,train_y)\n",
    "\n",
    "#train data using add boost classifier achieved 72% and prediction 96%\n",
    "clf = AdaBoostClassifier(n_estimators=100,learning_rate=0.1, random_state=0).fit(train_x,train_y) \n",
    "score = cross_val_score(clf, train_x,train_y, cv=5)\n",
    "score.mean()\n",
    "\n",
    "# achieved 77% precision and 52% predictions\n",
    "# clf = DecisionTreeClassifier(random_state=0, max_depth=2)\n",
    "# clf = clf.fit(train_x,train_y)\n",
    "# score = cross_val_score(clf, train_x,train_y, cv=5)\n",
    "# score.mean()\n",
    "\n",
    "\n",
    "\n",
    "\n"
   ]
  },
  {
   "cell_type": "code",
   "execution_count": 16,
   "metadata": {},
   "outputs": [
    {
     "name": "stdout",
     "output_type": "stream",
     "text": [
      "women to survive ration:96.05263157894737%\n",
      "Submission Done\n"
     ]
    }
   ],
   "source": [
    "predictions = clf.predict(test_xx)\n",
    "output = pd.DataFrame({'PassangerID':test_x.PassengerId, 'Sex':test_x.Sex, 'Survived':predictions})\n",
    "output.head(10)\n",
    "women = output.loc[output.Sex=='female']['Survived']\n",
    "women = sum(women)/len(women)\n",
    "output = output.drop(['Sex'], axis=1)\n",
    "output.head(5)\n",
    "print(f'women to survive ration:{women * 100}%')\n",
    "\n",
    "output.to_csv(\"Submission.csv\", index=True)\n",
    "print(\"Submission Done\")\n"
   ]
  }
 ],
 "metadata": {
  "kernelspec": {
   "display_name": "Python 3",
   "language": "python",
   "name": "python3"
  },
  "language_info": {
   "codemirror_mode": {
    "name": "ipython",
    "version": 3
   },
   "file_extension": ".py",
   "mimetype": "text/x-python",
   "name": "python",
   "nbconvert_exporter": "python",
   "pygments_lexer": "ipython3",
   "version": "3.8.10"
  },
  "orig_nbformat": 4
 },
 "nbformat": 4,
 "nbformat_minor": 2
}
